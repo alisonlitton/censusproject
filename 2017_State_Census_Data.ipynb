{
 "cells": [
  {
   "cell_type": "code",
   "execution_count": 1,
   "metadata": {},
   "outputs": [],
   "source": [
    "# Dependencies and Setup\n",
    "import matplotlib.pyplot as plt\n",
    "import pandas as pd\n",
    "import numpy as np\n",
    "import requests\n",
    "import time\n",
    "from scipy.stats import linregress"
   ]
  },
  {
   "cell_type": "code",
   "execution_count": 2,
   "metadata": {},
   "outputs": [],
   "source": [
    "# Census data files\n",
    "census_state_path_2017 = \"Output/2017_cleaned_state.csv\""
   ]
  },
  {
   "cell_type": "code",
   "execution_count": 3,
   "metadata": {},
   "outputs": [],
   "source": [
    "# Read the Census data\n",
    "census_state_path_2017 = pd.read_csv(census_state_path_2017)"
   ]
  },
  {
   "cell_type": "code",
   "execution_count": 4,
   "metadata": {},
   "outputs": [
    {
     "data": {
      "text/html": [
       "<div>\n",
       "<style scoped>\n",
       "    .dataframe tbody tr th:only-of-type {\n",
       "        vertical-align: middle;\n",
       "    }\n",
       "\n",
       "    .dataframe tbody tr th {\n",
       "        vertical-align: top;\n",
       "    }\n",
       "\n",
       "    .dataframe thead th {\n",
       "        text-align: right;\n",
       "    }\n",
       "</style>\n",
       "<table border=\"1\" class=\"dataframe\">\n",
       "  <thead>\n",
       "    <tr style=\"text-align: right;\">\n",
       "      <th></th>\n",
       "      <th>State</th>\n",
       "      <th>TotalPop</th>\n",
       "      <th>Men</th>\n",
       "      <th>Women</th>\n",
       "      <th>Hispanic</th>\n",
       "      <th>White</th>\n",
       "      <th>Black</th>\n",
       "      <th>Native</th>\n",
       "      <th>Asian</th>\n",
       "      <th>Pacific</th>\n",
       "      <th>...</th>\n",
       "      <th>OtherTrans</th>\n",
       "      <th>WorkatHome</th>\n",
       "      <th>MeanCommute</th>\n",
       "      <th>PrivateWork</th>\n",
       "      <th>PublicWork</th>\n",
       "      <th>SelfEmployed</th>\n",
       "      <th>FamilyWork</th>\n",
       "      <th>Poverty</th>\n",
       "      <th>ChildPoverty</th>\n",
       "      <th>Unemployment</th>\n",
       "    </tr>\n",
       "  </thead>\n",
       "  <tbody>\n",
       "    <tr>\n",
       "      <th>0</th>\n",
       "      <td>Alabama</td>\n",
       "      <td>4850771</td>\n",
       "      <td>2350806</td>\n",
       "      <td>2499965</td>\n",
       "      <td>198385</td>\n",
       "      <td>3197877</td>\n",
       "      <td>1280323</td>\n",
       "      <td>22671</td>\n",
       "      <td>61659</td>\n",
       "      <td>926</td>\n",
       "      <td>...</td>\n",
       "      <td>20721</td>\n",
       "      <td>63042</td>\n",
       "      <td>25</td>\n",
       "      <td>1624514</td>\n",
       "      <td>320525</td>\n",
       "      <td>106343</td>\n",
       "      <td>3905</td>\n",
       "      <td>871849</td>\n",
       "      <td>1258459</td>\n",
       "      <td>366302</td>\n",
       "    </tr>\n",
       "    <tr>\n",
       "      <th>1</th>\n",
       "      <td>Alaska</td>\n",
       "      <td>738565</td>\n",
       "      <td>386319</td>\n",
       "      <td>352246</td>\n",
       "      <td>50301</td>\n",
       "      <td>454526</td>\n",
       "      <td>22330</td>\n",
       "      <td>101633</td>\n",
       "      <td>44754</td>\n",
       "      <td>8646</td>\n",
       "      <td>...</td>\n",
       "      <td>18812</td>\n",
       "      <td>15742</td>\n",
       "      <td>10</td>\n",
       "      <td>241717</td>\n",
       "      <td>89250</td>\n",
       "      <td>22129</td>\n",
       "      <td>709</td>\n",
       "      <td>75144</td>\n",
       "      <td>99936</td>\n",
       "      <td>59123</td>\n",
       "    </tr>\n",
       "    <tr>\n",
       "      <th>2</th>\n",
       "      <td>Arizona</td>\n",
       "      <td>6809946</td>\n",
       "      <td>3385055</td>\n",
       "      <td>3424891</td>\n",
       "      <td>2103443</td>\n",
       "      <td>3785517</td>\n",
       "      <td>277136</td>\n",
       "      <td>264780</td>\n",
       "      <td>208375</td>\n",
       "      <td>11879</td>\n",
       "      <td>...</td>\n",
       "      <td>76986</td>\n",
       "      <td>173850</td>\n",
       "      <td>21</td>\n",
       "      <td>2357823</td>\n",
       "      <td>411571</td>\n",
       "      <td>178504</td>\n",
       "      <td>3943</td>\n",
       "      <td>1154434</td>\n",
       "      <td>1633853</td>\n",
       "      <td>490949</td>\n",
       "    </tr>\n",
       "    <tr>\n",
       "      <th>3</th>\n",
       "      <td>Arkansas</td>\n",
       "      <td>2977944</td>\n",
       "      <td>1461651</td>\n",
       "      <td>1516293</td>\n",
       "      <td>213373</td>\n",
       "      <td>2174088</td>\n",
       "      <td>457312</td>\n",
       "      <td>17022</td>\n",
       "      <td>42027</td>\n",
       "      <td>6770</td>\n",
       "      <td>...</td>\n",
       "      <td>15631</td>\n",
       "      <td>41029</td>\n",
       "      <td>22</td>\n",
       "      <td>997809</td>\n",
       "      <td>198806</td>\n",
       "      <td>77564</td>\n",
       "      <td>2215</td>\n",
       "      <td>541298</td>\n",
       "      <td>769388</td>\n",
       "      <td>189390</td>\n",
       "    </tr>\n",
       "    <tr>\n",
       "      <th>4</th>\n",
       "      <td>California</td>\n",
       "      <td>38982847</td>\n",
       "      <td>19366579</td>\n",
       "      <td>19616268</td>\n",
       "      <td>15106298</td>\n",
       "      <td>14778217</td>\n",
       "      <td>2162560</td>\n",
       "      <td>138859</td>\n",
       "      <td>5430051</td>\n",
       "      <td>135141</td>\n",
       "      <td>...</td>\n",
       "      <td>458329</td>\n",
       "      <td>998319</td>\n",
       "      <td>25</td>\n",
       "      <td>14065256</td>\n",
       "      <td>2429116</td>\n",
       "      <td>1465746</td>\n",
       "      <td>33582</td>\n",
       "      <td>5893442</td>\n",
       "      <td>7890893</td>\n",
       "      <td>3028451</td>\n",
       "    </tr>\n",
       "  </tbody>\n",
       "</table>\n",
       "<p>5 rows × 35 columns</p>\n",
       "</div>"
      ],
      "text/plain": [
       "        State  TotalPop       Men     Women  Hispanic     White    Black  \\\n",
       "0     Alabama   4850771   2350806   2499965    198385   3197877  1280323   \n",
       "1      Alaska    738565    386319    352246     50301    454526    22330   \n",
       "2     Arizona   6809946   3385055   3424891   2103443   3785517   277136   \n",
       "3    Arkansas   2977944   1461651   1516293    213373   2174088   457312   \n",
       "4  California  38982847  19366579  19616268  15106298  14778217  2162560   \n",
       "\n",
       "   Native    Asian  Pacific  ...  OtherTrans  WorkatHome  MeanCommute  \\\n",
       "0   22671    61659      926  ...       20721       63042           25   \n",
       "1  101633    44754     8646  ...       18812       15742           10   \n",
       "2  264780   208375    11879  ...       76986      173850           21   \n",
       "3   17022    42027     6770  ...       15631       41029           22   \n",
       "4  138859  5430051   135141  ...      458329      998319           25   \n",
       "\n",
       "   PrivateWork  PublicWork  SelfEmployed  FamilyWork  Poverty  ChildPoverty  \\\n",
       "0      1624514      320525        106343        3905   871849       1258459   \n",
       "1       241717       89250         22129         709    75144         99936   \n",
       "2      2357823      411571        178504        3943  1154434       1633853   \n",
       "3       997809      198806         77564        2215   541298        769388   \n",
       "4     14065256     2429116       1465746       33582  5893442       7890893   \n",
       "\n",
       "   Unemployment  \n",
       "0        366302  \n",
       "1         59123  \n",
       "2        490949  \n",
       "3        189390  \n",
       "4       3028451  \n",
       "\n",
       "[5 rows x 35 columns]"
      ]
     },
     "execution_count": 4,
     "metadata": {},
     "output_type": "execute_result"
    }
   ],
   "source": [
    "census_state_path_2017.head()"
   ]
  },
  {
   "cell_type": "code",
   "execution_count": 5,
   "metadata": {},
   "outputs": [],
   "source": [
    "#Data Collection for Census data\n",
    "total_pop = census_state_path_2017[\"TotalPop\"].sum()\n",
    "men = census_state_path_2017[\"Men\"].sum()/total_pop * 100\n",
    "women= census_state_path_2017[\"Women\"].sum()/total_pop * 100\n",
    "employed_num = census_state_path_2017[\"Employed\"].sum()\n",
    "employed = census_state_path_2017[\"Employed\"].sum()/total_pop * 100\n",
    "service = census_state_path_2017[\"Service\"].sum()/employed_num * 100\n",
    "office = census_state_path_2017[\"Office\"].sum()/employed_num * 100\n",
    "construction = census_state_path_2017[\"Construction\"].sum()/employed_num * 100\n",
    "production = census_state_path_2017[\"Production\"].sum()/employed_num * 100\n",
    "drive = census_state_path_2017[\"Drive\"].sum()/employed_num * 100\n",
    "carpool = census_state_path_2017[\"Carpool\"].sum()/employed_num * 100\n",
    "transit = census_state_path_2017[\"Transit\"].sum()/employed_num * 100\n",
    "walk = census_state_path_2017[\"Walk\"].sum()/employed_num * 100\n",
    "workathome = census_state_path_2017[\"WorkatHome\"].sum()/employed_num * 100\n",
    "privatework = census_state_path_2017[\"PrivateWork\"].sum()/employed_num * 100\n",
    "publicwork = census_state_path_2017[\"PublicWork\"].sum()/employed_num * 100\n",
    "selfemployed = census_state_path_2017[\"SelfEmployed\"].sum()/employed_num * 100\n",
    "familywork = census_state_path_2017[\"FamilyWork\"].sum()/employed_num * 100\n",
    "poverty = census_state_path_2017[\"Poverty\"].sum()/employed_num * 100\n",
    "childpoverty = census_state_path_2017[\"ChildPoverty\"].sum()/total_pop * 100\n",
    "unemployment = census_state_path_2017[\"Unemployment\"].sum()/total_pop * 100"
   ]
  },
  {
   "cell_type": "code",
   "execution_count": 6,
   "metadata": {},
   "outputs": [
    {
     "data": {
      "text/html": [
       "<style  type=\"text/css\" >\n",
       "</style><table id=\"T_f0215066_c7dd_11ea_8f82_1cbfc022f172\" ><thead>    <tr>        <th class=\"blank level0\" ></th>        <th class=\"col_heading level0 col0\" >Total Pop</th>        <th class=\"col_heading level0 col1\" >Men%</th>        <th class=\"col_heading level0 col2\" >Women%</th>        <th class=\"col_heading level0 col3\" >Employed%</th>        <th class=\"col_heading level0 col4\" >Service%</th>        <th class=\"col_heading level0 col5\" >Office%</th>        <th class=\"col_heading level0 col6\" >Construction%</th>        <th class=\"col_heading level0 col7\" >Production%</th>        <th class=\"col_heading level0 col8\" >Drive%</th>        <th class=\"col_heading level0 col9\" >Carpool%</th>        <th class=\"col_heading level0 col10\" >Transit%</th>        <th class=\"col_heading level0 col11\" >Walk%</th>        <th class=\"col_heading level0 col12\" >WorkatHome%</th>        <th class=\"col_heading level0 col13\" >Privatework%</th>        <th class=\"col_heading level0 col14\" >Publicwork%</th>        <th class=\"col_heading level0 col15\" >Selfemployed%</th>        <th class=\"col_heading level0 col16\" >Familywork%</th>        <th class=\"col_heading level0 col17\" >Poverty%</th>        <th class=\"col_heading level0 col18\" >Childpoverty%</th>        <th class=\"col_heading level0 col19\" >Unemployment%</th>    </tr></thead><tbody>\n",
       "                <tr>\n",
       "                        <th id=\"T_f0215066_c7dd_11ea_8f82_1cbfc022f172level0_row0\" class=\"row_heading level0 row0\" >0</th>\n",
       "                        <td id=\"T_f0215066_c7dd_11ea_8f82_1cbfc022f172row0_col0\" class=\"data row0 col0\" >324,473,370</td>\n",
       "                        <td id=\"T_f0215066_c7dd_11ea_8f82_1cbfc022f172row0_col1\" class=\"data row0 col1\" >49.21%</td>\n",
       "                        <td id=\"T_f0215066_c7dd_11ea_8f82_1cbfc022f172row0_col2\" class=\"data row0 col2\" >50.79%</td>\n",
       "                        <td id=\"T_f0215066_c7dd_11ea_8f82_1cbfc022f172row0_col3\" class=\"data row0 col3\" >46.73%</td>\n",
       "                        <td id=\"T_f0215066_c7dd_11ea_8f82_1cbfc022f172row0_col4\" class=\"data row0 col4\" >17.99%</td>\n",
       "                        <td id=\"T_f0215066_c7dd_11ea_8f82_1cbfc022f172row0_col5\" class=\"data row0 col5\" >23.56%</td>\n",
       "                        <td id=\"T_f0215066_c7dd_11ea_8f82_1cbfc022f172row0_col6\" class=\"data row0 col6\" >8.88%</td>\n",
       "                        <td id=\"T_f0215066_c7dd_11ea_8f82_1cbfc022f172row0_col7\" class=\"data row0 col7\" >12.16%</td>\n",
       "                        <td id=\"T_f0215066_c7dd_11ea_8f82_1cbfc022f172row0_col8\" class=\"data row0 col8\" >76.46%</td>\n",
       "                        <td id=\"T_f0215066_c7dd_11ea_8f82_1cbfc022f172row0_col9\" class=\"data row0 col9\" >9.15%</td>\n",
       "                        <td id=\"T_f0215066_c7dd_11ea_8f82_1cbfc022f172row0_col10\" class=\"data row0 col10\" >5.13%</td>\n",
       "                        <td id=\"T_f0215066_c7dd_11ea_8f82_1cbfc022f172row0_col11\" class=\"data row0 col11\" >2.73%</td>\n",
       "                        <td id=\"T_f0215066_c7dd_11ea_8f82_1cbfc022f172row0_col12\" class=\"data row0 col12\" >4.71%</td>\n",
       "                        <td id=\"T_f0215066_c7dd_11ea_8f82_1cbfc022f172row0_col13\" class=\"data row0 col13\" >79.95%</td>\n",
       "                        <td id=\"T_f0215066_c7dd_11ea_8f82_1cbfc022f172row0_col14\" class=\"data row0 col14\" >13.90%</td>\n",
       "                        <td id=\"T_f0215066_c7dd_11ea_8f82_1cbfc022f172row0_col15\" class=\"data row0 col15\" >5.98%</td>\n",
       "                        <td id=\"T_f0215066_c7dd_11ea_8f82_1cbfc022f172row0_col16\" class=\"data row0 col16\" >0.16%</td>\n",
       "                        <td id=\"T_f0215066_c7dd_11ea_8f82_1cbfc022f172row0_col17\" class=\"data row0 col17\" >31.95%</td>\n",
       "                        <td id=\"T_f0215066_c7dd_11ea_8f82_1cbfc022f172row0_col18\" class=\"data row0 col18\" >20.61%</td>\n",
       "                        <td id=\"T_f0215066_c7dd_11ea_8f82_1cbfc022f172row0_col19\" class=\"data row0 col19\" >6.76%</td>\n",
       "            </tr>\n",
       "    </tbody></table>"
      ],
      "text/plain": [
       "<pandas.io.formats.style.Styler at 0x274856afd68>"
      ]
     },
     "execution_count": 6,
     "metadata": {},
     "output_type": "execute_result"
    }
   ],
   "source": [
    "state_summary_2017_df = pd.DataFrame({\"Total Pop\": [total_pop],\n",
    "                           \"Men%\": [men],\n",
    "                           \"Women%\": [women],\n",
    "                           \"Employed%\": [employed],\n",
    "                           \"Service%\": [service],\n",
    "                           \"Office%\": [office],\n",
    "                           \"Construction%\": [construction],\n",
    "                           \"Production%\": [production],\n",
    "                           \"Drive%\": [drive],\n",
    "                           \"Carpool%\": [carpool],\n",
    "                           \"Transit%\": [transit],\n",
    "                           \"Walk%\": [walk],\n",
    "                           \"WorkatHome%\": [workathome],\n",
    "                           \"Privatework%\": [privatework],\n",
    "                           \"Publicwork%\": [publicwork],\n",
    "                           \"Selfemployed%\": [selfemployed],\n",
    "                           \"Familywork%\": [familywork],\n",
    "                           \"Poverty%\": [poverty],\n",
    "                           \"Childpoverty%\": [childpoverty],\n",
    "                           \"Selfemployed%\": [selfemployed],\n",
    "                           \"Unemployment%\": [unemployment]})           \n",
    "                          \n",
    "             \n",
    "state_summary_2017_df .style.format({\"Total Pop\":\"{:,}\",\n",
    "                         \"Men%\":\"{:,.2f}%\",\n",
    "                         \"Women%\":\"{:,.2f}%\",\n",
    "                         \"Employed%\":\"{:,.2f}%\",\n",
    "                         \"Service%\":\"{:,.2f}%\",\n",
    "                         \"Office%\":\"{:,.2f}%\",\n",
    "                         \"Construction%\":\"{:,.2f}%\",\n",
    "                         \"Production%\":\"{:,.2f}%\",\n",
    "                         \"Drive%\":\"{:,.2f}%\",\n",
    "                         \"Carpool%\":\"{:,.2f}%\",\n",
    "                         \"Transit%\":\"{:,.2f}%\",\n",
    "                          \"Walk%\":\"{:,.2f}%\",\n",
    "                          \"WorkatHome%\":\"{:,.2f}%\",\n",
    "                          \"Privatework%\":\"{:,.2f}%\",\n",
    "                          \"Publicwork%\":\"{:,.2f}%\",\n",
    "                          \"Selfemployed%\":\"{:,.2f}%\",\n",
    "                          \"Familywork%\":\"{:,.2f}%\",\n",
    "                          \"Poverty%\":\"{:,.2f}%\",\n",
    "                          \"Childpoverty%\":\"{:,.2f}%\",\n",
    "                          \"Selfemployed%\":\"{:,.2f}%\",\n",
    "                          \"Unemployment%\":\"{:,.2f}%\"})  "
   ]
  },
  {
   "cell_type": "code",
   "execution_count": 7,
   "metadata": {},
   "outputs": [
    {
     "data": {
      "image/png": "[encoded data removed]",
      "text/plain": [
       "<Figure size 432x288 with 1 Axes>"
      ]
     },
     "metadata": {
      "needs_background": "light"
     },
     "output_type": "display_data"
    }
   ],
   "source": [
    "plt.scatter(census_state_path_2017[\"Income\"],census_state_path_2017[\"Professional\"], marker=\"o\", facecolors=\"red\", edgecolors=\"black\",alpha=0.5)\n",
    "plt.xlabel(\"Income\")\n",
    "plt.ylabel(\"Professional\")\n",
    "plt.title(f\"Avg Income vs Professional Sector\")\n",
    "# plt.savefig(\"../output_data//Avg Income vs Professional Sector.png\")\n",
    "plt.grid()\n",
    "plt.show()"
   ]
  },
  {
   "cell_type": "code",
   "execution_count": 8,
   "metadata": {},
   "outputs": [
    {
     "name": "stdout",
     "output_type": "stream",
     "text": [
      "The r-squared is: 0.006700688093783286\n"
     ]
    },
    {
     "data": {
      "image/png": "[encoded data removed]",
      "text/plain": [
       "<Figure size 432x288 with 1 Axes>"
      ]
     },
     "metadata": {
      "needs_background": "light"
     },
     "output_type": "display_data"
    }
   ],
   "source": [
    "x_value = census_state_path_2017[\"Income\"]\n",
    "y_value = census_state_path_2017[\"Professional\"]\n",
    "\n",
    "\n",
    "(slope, intercept, rvalue, pvalue, stderr) = linregress(x_value, y_value)\n",
    "\n",
    "print(f\"The r-squared is: {rvalue**2}\")\n",
    "r_line = \"y = \" + str(round(slope,2)) + \"x +\" + str(round(intercept,2))\n",
    "\n",
    "regression_values = x_value * slope + intercept\n",
    "plt.scatter(x_value,y_value)\n",
    "plt.annotate(r_line,(5, 40),color=\"red\")\n",
    "plt.plot(x_value,regression_values, \"r-\")\n",
    "plt.title(\"Avg Income vs Professional Sector\")\n",
    "plt.xlabel(\"Income\")\n",
    "plt.ylabel(\"Professional\")\n",
    "# plt.savefig(\"../output_data//Northern Hemisphere - Max Temp vs. Latitude Linear Regression.png\")\n",
    "plt.show()"
   ]
  },
  {
   "cell_type": "code",
   "execution_count": 9,
   "metadata": {},
   "outputs": [
    {
     "ename": "NameError",
     "evalue": "name 'x' is not defined",
     "output_type": "error",
     "traceback": [
      "\u001b[1;31m---------------------------------------------------------------------------\u001b[0m",
      "\u001b[1;31mNameError\u001b[0m                                 Traceback (most recent call last)",
      "\u001b[1;32m<ipython-input-9-cddd9825a947>\u001b[0m in \u001b[0;36m<module>\u001b[1;34m\u001b[0m\n\u001b[0;32m      1\u001b[0m \u001b[0mplt\u001b[0m\u001b[1;33m.\u001b[0m\u001b[0mfigure\u001b[0m\u001b[1;33m(\u001b[0m\u001b[0mfigsize\u001b[0m\u001b[1;33m=\u001b[0m\u001b[1;33m(\u001b[0m\u001b[1;36m15\u001b[0m\u001b[1;33m,\u001b[0m \u001b[1;36m10\u001b[0m\u001b[1;33m)\u001b[0m\u001b[1;33m)\u001b[0m\u001b[1;33m\u001b[0m\u001b[1;33m\u001b[0m\u001b[0m\n\u001b[1;32m----> 2\u001b[1;33m \u001b[0mplt\u001b[0m\u001b[1;33m.\u001b[0m\u001b[0mbar\u001b[0m\u001b[1;33m(\u001b[0m\u001b[0mx\u001b[0m\u001b[1;33m,\u001b[0m \u001b[0my\u001b[0m\u001b[1;33m,\u001b[0m \u001b[0mcolor\u001b[0m\u001b[1;33m=\u001b[0m\u001b[1;34m\"blue\"\u001b[0m\u001b[1;33m,\u001b[0m \u001b[0malpha\u001b[0m\u001b[1;33m=\u001b[0m\u001b[1;36m1\u001b[0m\u001b[1;33m,\u001b[0m \u001b[0malign\u001b[0m\u001b[1;33m=\u001b[0m\u001b[1;34m\"center\"\u001b[0m\u001b[1;33m)\u001b[0m\u001b[1;33m\u001b[0m\u001b[1;33m\u001b[0m\u001b[0m\n\u001b[0m\u001b[0;32m      3\u001b[0m \u001b[0mplt\u001b[0m\u001b[1;33m.\u001b[0m\u001b[0mxlim\u001b[0m\u001b[1;33m(\u001b[0m\u001b[1;33m-\u001b[0m\u001b[1;36m.75\u001b[0m\u001b[1;33m,\u001b[0m \u001b[0mlen\u001b[0m\u001b[1;33m(\u001b[0m\u001b[0mx\u001b[0m\u001b[1;33m)\u001b[0m\u001b[1;33m+\u001b[0m\u001b[1;36m.75\u001b[0m\u001b[1;33m)\u001b[0m\u001b[1;33m\u001b[0m\u001b[1;33m\u001b[0m\u001b[0m\n\u001b[0;32m      4\u001b[0m \u001b[0mplt\u001b[0m\u001b[1;33m.\u001b[0m\u001b[0mylim\u001b[0m\u001b[1;33m(\u001b[0m\u001b[1;36m0\u001b[0m\u001b[1;33m,\u001b[0m \u001b[0mmax\u001b[0m\u001b[1;33m(\u001b[0m\u001b[0my\u001b[0m\u001b[1;33m)\u001b[0m\u001b[1;33m+\u001b[0m\u001b[1;36m25\u001b[0m\u001b[1;33m)\u001b[0m\u001b[1;33m\u001b[0m\u001b[1;33m\u001b[0m\u001b[0m\n\u001b[0;32m      5\u001b[0m \u001b[0mplt\u001b[0m\u001b[1;33m.\u001b[0m\u001b[0mtitle\u001b[0m\u001b[1;33m(\u001b[0m\u001b[1;34m\"Avg Income vs Professional Sector\"\u001b[0m\u001b[1;33m)\u001b[0m\u001b[1;33m\u001b[0m\u001b[1;33m\u001b[0m\u001b[0m\n",
      "\u001b[1;31mNameError\u001b[0m: name 'x' is not defined"
     ]
    },
    {
     "data": {
      "text/plain": [
       "<Figure size 1080x720 with 0 Axes>"
      ]
     },
     "metadata": {},
     "output_type": "display_data"
    }
   ],
   "source": [
    "plt.figure(figsize=(15, 10))\n",
    "plt.bar(x, y, color=\"blue\", alpha=1, align=\"center\")\n",
    "plt.xlim(-.75, len(x)+.75)\n",
    "plt.ylim(0, max(y)+25)\n",
    "plt.title(\"Avg Income vs Professional Sector\")\n",
    "plt.xlabel(\"Income\")\n",
    "plt.ylabel(\"Professional\")\n",
    "tick_locations = [value for value in x]\n",
    "plt.xticks(tick_locations, rotation=90)\n",
    "plt.show()"
   ]
  },
  {
   "cell_type": "code",
   "execution_count": null,
   "metadata": {},
   "outputs": [],
   "source": []
  }
 ],
 "metadata": {
  "kernelspec": {
   "display_name": "Python 3.6.10 64-bit ('PythonData': conda)",
   "language": "python",
   "name": "python361064bitpythondatacondab7241d2842e841139a307079ecc122c8"
  },
  "language_info": {
   "codemirror_mode": {
    "name": "ipython",
    "version": 3
   },
   "file_extension": ".py",
   "mimetype": "text/x-python",
   "name": "python",
   "nbconvert_exporter": "python",
   "pygments_lexer": "ipython3",
   "version": "3.6.10"
  }
 },
 "nbformat": 4,
 "nbformat_minor": 4
}
