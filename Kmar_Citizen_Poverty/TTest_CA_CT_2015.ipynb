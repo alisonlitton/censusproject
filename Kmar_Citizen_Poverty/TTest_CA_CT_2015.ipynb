{
 "cells": [
  {
   "cell_type": "code",
   "execution_count": 1,
   "metadata": {},
   "outputs": [],
   "source": [
    "# Dependencies and Setup\n",
    "import os\n",
    "import csv\n",
    "import pandas as pd\n",
    "import numpy as np\n",
    "import matplotlib.pyplot as plt\n",
    "import scipy.stats as stats\n",
    "from scipy.stats import linregress\n",
    "import seaborn as sns\n",
    "\n",
    "# Data file paths\n",
    "county_2015_path = \"../Output/2015_cleaned_all_county.csv\"\n",
    "\n",
    "# Read 2015 and 2017 county and state CSVs\n",
    "county_2015 = pd.read_csv(county_2015_path)"
   ]
  },
  {
   "cell_type": "code",
   "execution_count": 2,
   "metadata": {},
   "outputs": [
    {
     "data": {
      "text/html": [
       "<div>\n",
       "<style scoped>\n",
       "    .dataframe tbody tr th:only-of-type {\n",
       "        vertical-align: middle;\n",
       "    }\n",
       "\n",
       "    .dataframe tbody tr th {\n",
       "        vertical-align: top;\n",
       "    }\n",
       "\n",
       "    .dataframe thead th {\n",
       "        text-align: right;\n",
       "    }\n",
       "</style>\n",
       "<table border=\"1\" class=\"dataframe\">\n",
       "  <thead>\n",
       "    <tr style=\"text-align: right;\">\n",
       "      <th></th>\n",
       "      <th>Unnamed: 0</th>\n",
       "      <th>State</th>\n",
       "      <th>County</th>\n",
       "      <th>TotalPop</th>\n",
       "      <th>Men</th>\n",
       "      <th>Women</th>\n",
       "      <th>Hispanic</th>\n",
       "      <th>White</th>\n",
       "      <th>Black</th>\n",
       "      <th>Native</th>\n",
       "      <th>...</th>\n",
       "      <th>OtherTrans</th>\n",
       "      <th>WorkatHome</th>\n",
       "      <th>MeanCommute</th>\n",
       "      <th>PrivateWork</th>\n",
       "      <th>PublicWork</th>\n",
       "      <th>SelfEmployed</th>\n",
       "      <th>FamilyWork</th>\n",
       "      <th>Poverty</th>\n",
       "      <th>ChildPoverty</th>\n",
       "      <th>Unemployment</th>\n",
       "    </tr>\n",
       "  </thead>\n",
       "  <tbody>\n",
       "    <tr>\n",
       "      <th>0</th>\n",
       "      <td>0</td>\n",
       "      <td>Alabama</td>\n",
       "      <td>Autauga</td>\n",
       "      <td>55221</td>\n",
       "      <td>26745</td>\n",
       "      <td>28476</td>\n",
       "      <td>1435</td>\n",
       "      <td>41857</td>\n",
       "      <td>10215</td>\n",
       "      <td>220</td>\n",
       "      <td>...</td>\n",
       "      <td>311</td>\n",
       "      <td>431</td>\n",
       "      <td>26</td>\n",
       "      <td>17653</td>\n",
       "      <td>5013</td>\n",
       "      <td>1319</td>\n",
       "      <td>0</td>\n",
       "      <td>7123</td>\n",
       "      <td>10271</td>\n",
       "      <td>4196</td>\n",
       "    </tr>\n",
       "    <tr>\n",
       "      <th>1</th>\n",
       "      <td>1</td>\n",
       "      <td>Alabama</td>\n",
       "      <td>Baldwin</td>\n",
       "      <td>195121</td>\n",
       "      <td>95314</td>\n",
       "      <td>99807</td>\n",
       "      <td>8780</td>\n",
       "      <td>162145</td>\n",
       "      <td>18536</td>\n",
       "      <td>1170</td>\n",
       "      <td>...</td>\n",
       "      <td>1203</td>\n",
       "      <td>3352</td>\n",
       "      <td>26</td>\n",
       "      <td>70051</td>\n",
       "      <td>10572</td>\n",
       "      <td>4985</td>\n",
       "      <td>343</td>\n",
       "      <td>26146</td>\n",
       "      <td>37463</td>\n",
       "      <td>14634</td>\n",
       "    </tr>\n",
       "    <tr>\n",
       "      <th>2</th>\n",
       "      <td>2</td>\n",
       "      <td>Alabama</td>\n",
       "      <td>Barbour</td>\n",
       "      <td>26932</td>\n",
       "      <td>14497</td>\n",
       "      <td>12435</td>\n",
       "      <td>1238</td>\n",
       "      <td>12442</td>\n",
       "      <td>12577</td>\n",
       "      <td>53</td>\n",
       "      <td>...</td>\n",
       "      <td>128</td>\n",
       "      <td>137</td>\n",
       "      <td>24</td>\n",
       "      <td>6172</td>\n",
       "      <td>1788</td>\n",
       "      <td>627</td>\n",
       "      <td>8</td>\n",
       "      <td>7190</td>\n",
       "      <td>12200</td>\n",
       "      <td>4740</td>\n",
       "    </tr>\n",
       "    <tr>\n",
       "      <th>3</th>\n",
       "      <td>3</td>\n",
       "      <td>Alabama</td>\n",
       "      <td>Bibb</td>\n",
       "      <td>22604</td>\n",
       "      <td>12073</td>\n",
       "      <td>10531</td>\n",
       "      <td>497</td>\n",
       "      <td>16839</td>\n",
       "      <td>4837</td>\n",
       "      <td>90</td>\n",
       "      <td>...</td>\n",
       "      <td>124</td>\n",
       "      <td>58</td>\n",
       "      <td>28</td>\n",
       "      <td>6369</td>\n",
       "      <td>1335</td>\n",
       "      <td>555</td>\n",
       "      <td>33</td>\n",
       "      <td>3797</td>\n",
       "      <td>6306</td>\n",
       "      <td>1876</td>\n",
       "    </tr>\n",
       "    <tr>\n",
       "      <th>4</th>\n",
       "      <td>4</td>\n",
       "      <td>Alabama</td>\n",
       "      <td>Blount</td>\n",
       "      <td>57710</td>\n",
       "      <td>28512</td>\n",
       "      <td>29198</td>\n",
       "      <td>4963</td>\n",
       "      <td>50727</td>\n",
       "      <td>865</td>\n",
       "      <td>173</td>\n",
       "      <td>...</td>\n",
       "      <td>88</td>\n",
       "      <td>510</td>\n",
       "      <td>34</td>\n",
       "      <td>18194</td>\n",
       "      <td>2995</td>\n",
       "      <td>931</td>\n",
       "      <td>88</td>\n",
       "      <td>9637</td>\n",
       "      <td>15697</td>\n",
       "      <td>4443</td>\n",
       "    </tr>\n",
       "  </tbody>\n",
       "</table>\n",
       "<p>5 rows × 37 columns</p>\n",
       "</div>"
      ],
      "text/plain": [
       "   Unnamed: 0    State   County  TotalPop    Men  Women  Hispanic   White  \\\n",
       "0           0  Alabama  Autauga     55221  26745  28476      1435   41857   \n",
       "1           1  Alabama  Baldwin    195121  95314  99807      8780  162145   \n",
       "2           2  Alabama  Barbour     26932  14497  12435      1238   12442   \n",
       "3           3  Alabama     Bibb     22604  12073  10531       497   16839   \n",
       "4           4  Alabama   Blount     57710  28512  29198      4963   50727   \n",
       "\n",
       "   Black  Native  ...  OtherTrans  WorkatHome  MeanCommute  PrivateWork  \\\n",
       "0  10215     220  ...         311         431           26        17653   \n",
       "1  18536    1170  ...        1203        3352           26        70051   \n",
       "2  12577      53  ...         128         137           24         6172   \n",
       "3   4837      90  ...         124          58           28         6369   \n",
       "4    865     173  ...          88         510           34        18194   \n",
       "\n",
       "   PublicWork  SelfEmployed  FamilyWork  Poverty  ChildPoverty  Unemployment  \n",
       "0        5013          1319           0     7123         10271          4196  \n",
       "1       10572          4985         343    26146         37463         14634  \n",
       "2        1788           627           8     7190         12200          4740  \n",
       "3        1335           555          33     3797          6306          1876  \n",
       "4        2995           931          88     9637         15697          4443  \n",
       "\n",
       "[5 rows x 37 columns]"
      ]
     },
     "execution_count": 2,
     "metadata": {},
     "output_type": "execute_result"
    }
   ],
   "source": [
    "county_2015.head()"
   ]
  },
  {
   "cell_type": "code",
   "execution_count": 3,
   "metadata": {},
   "outputs": [],
   "source": [
    "# Replacing blanks with 0\n",
    "county_2015.Income.fillna(value=0, inplace=True)\n",
    "county_2015.MeanCommute.fillna(value=0, inplace=True)\n",
    "county_2015.Poverty.fillna(value=0, inplace=True)"
   ]
  },
  {
   "cell_type": "code",
   "execution_count": 4,
   "metadata": {},
   "outputs": [],
   "source": [
    "# Export csv\n",
    "county_15_output = county_2015.to_csv(\"fillnacounties15.csv\", index=False)"
   ]
  },
  {
   "cell_type": "code",
   "execution_count": 5,
   "metadata": {},
   "outputs": [
    {
     "data": {
      "text/html": [
       "<div>\n",
       "<style scoped>\n",
       "    .dataframe tbody tr th:only-of-type {\n",
       "        vertical-align: middle;\n",
       "    }\n",
       "\n",
       "    .dataframe tbody tr th {\n",
       "        vertical-align: top;\n",
       "    }\n",
       "\n",
       "    .dataframe thead th {\n",
       "        text-align: right;\n",
       "    }\n",
       "</style>\n",
       "<table border=\"1\" class=\"dataframe\">\n",
       "  <thead>\n",
       "    <tr style=\"text-align: right;\">\n",
       "      <th></th>\n",
       "      <th>Unnamed: 0</th>\n",
       "      <th>State</th>\n",
       "      <th>County</th>\n",
       "      <th>TotalPop</th>\n",
       "      <th>Men</th>\n",
       "      <th>Women</th>\n",
       "      <th>Hispanic</th>\n",
       "      <th>White</th>\n",
       "      <th>Black</th>\n",
       "      <th>Native</th>\n",
       "      <th>...</th>\n",
       "      <th>OtherTrans</th>\n",
       "      <th>WorkatHome</th>\n",
       "      <th>MeanCommute</th>\n",
       "      <th>PrivateWork</th>\n",
       "      <th>PublicWork</th>\n",
       "      <th>SelfEmployed</th>\n",
       "      <th>FamilyWork</th>\n",
       "      <th>Poverty</th>\n",
       "      <th>ChildPoverty</th>\n",
       "      <th>Unemployment</th>\n",
       "    </tr>\n",
       "  </thead>\n",
       "  <tbody>\n",
       "    <tr>\n",
       "      <th>0</th>\n",
       "      <td>0</td>\n",
       "      <td>Alabama</td>\n",
       "      <td>Autauga</td>\n",
       "      <td>55221</td>\n",
       "      <td>26745</td>\n",
       "      <td>28476</td>\n",
       "      <td>1435</td>\n",
       "      <td>41857</td>\n",
       "      <td>10215</td>\n",
       "      <td>220</td>\n",
       "      <td>...</td>\n",
       "      <td>311</td>\n",
       "      <td>431</td>\n",
       "      <td>26</td>\n",
       "      <td>17653</td>\n",
       "      <td>5013</td>\n",
       "      <td>1319</td>\n",
       "      <td>0</td>\n",
       "      <td>7123</td>\n",
       "      <td>10271</td>\n",
       "      <td>4196</td>\n",
       "    </tr>\n",
       "    <tr>\n",
       "      <th>1</th>\n",
       "      <td>1</td>\n",
       "      <td>Alabama</td>\n",
       "      <td>Baldwin</td>\n",
       "      <td>195121</td>\n",
       "      <td>95314</td>\n",
       "      <td>99807</td>\n",
       "      <td>8780</td>\n",
       "      <td>162145</td>\n",
       "      <td>18536</td>\n",
       "      <td>1170</td>\n",
       "      <td>...</td>\n",
       "      <td>1203</td>\n",
       "      <td>3352</td>\n",
       "      <td>26</td>\n",
       "      <td>70051</td>\n",
       "      <td>10572</td>\n",
       "      <td>4985</td>\n",
       "      <td>343</td>\n",
       "      <td>26146</td>\n",
       "      <td>37463</td>\n",
       "      <td>14634</td>\n",
       "    </tr>\n",
       "    <tr>\n",
       "      <th>2</th>\n",
       "      <td>2</td>\n",
       "      <td>Alabama</td>\n",
       "      <td>Barbour</td>\n",
       "      <td>26932</td>\n",
       "      <td>14497</td>\n",
       "      <td>12435</td>\n",
       "      <td>1238</td>\n",
       "      <td>12442</td>\n",
       "      <td>12577</td>\n",
       "      <td>53</td>\n",
       "      <td>...</td>\n",
       "      <td>128</td>\n",
       "      <td>137</td>\n",
       "      <td>24</td>\n",
       "      <td>6172</td>\n",
       "      <td>1788</td>\n",
       "      <td>627</td>\n",
       "      <td>8</td>\n",
       "      <td>7190</td>\n",
       "      <td>12200</td>\n",
       "      <td>4740</td>\n",
       "    </tr>\n",
       "    <tr>\n",
       "      <th>3</th>\n",
       "      <td>3</td>\n",
       "      <td>Alabama</td>\n",
       "      <td>Bibb</td>\n",
       "      <td>22604</td>\n",
       "      <td>12073</td>\n",
       "      <td>10531</td>\n",
       "      <td>497</td>\n",
       "      <td>16839</td>\n",
       "      <td>4837</td>\n",
       "      <td>90</td>\n",
       "      <td>...</td>\n",
       "      <td>124</td>\n",
       "      <td>58</td>\n",
       "      <td>28</td>\n",
       "      <td>6369</td>\n",
       "      <td>1335</td>\n",
       "      <td>555</td>\n",
       "      <td>33</td>\n",
       "      <td>3797</td>\n",
       "      <td>6306</td>\n",
       "      <td>1876</td>\n",
       "    </tr>\n",
       "    <tr>\n",
       "      <th>4</th>\n",
       "      <td>4</td>\n",
       "      <td>Alabama</td>\n",
       "      <td>Blount</td>\n",
       "      <td>57710</td>\n",
       "      <td>28512</td>\n",
       "      <td>29198</td>\n",
       "      <td>4963</td>\n",
       "      <td>50727</td>\n",
       "      <td>865</td>\n",
       "      <td>173</td>\n",
       "      <td>...</td>\n",
       "      <td>88</td>\n",
       "      <td>510</td>\n",
       "      <td>34</td>\n",
       "      <td>18194</td>\n",
       "      <td>2995</td>\n",
       "      <td>931</td>\n",
       "      <td>88</td>\n",
       "      <td>9637</td>\n",
       "      <td>15697</td>\n",
       "      <td>4443</td>\n",
       "    </tr>\n",
       "  </tbody>\n",
       "</table>\n",
       "<p>5 rows × 37 columns</p>\n",
       "</div>"
      ],
      "text/plain": [
       "   Unnamed: 0    State   County  TotalPop    Men  Women  Hispanic   White  \\\n",
       "0           0  Alabama  Autauga     55221  26745  28476      1435   41857   \n",
       "1           1  Alabama  Baldwin    195121  95314  99807      8780  162145   \n",
       "2           2  Alabama  Barbour     26932  14497  12435      1238   12442   \n",
       "3           3  Alabama     Bibb     22604  12073  10531       497   16839   \n",
       "4           4  Alabama   Blount     57710  28512  29198      4963   50727   \n",
       "\n",
       "   Black  Native  ...  OtherTrans  WorkatHome  MeanCommute  PrivateWork  \\\n",
       "0  10215     220  ...         311         431           26        17653   \n",
       "1  18536    1170  ...        1203        3352           26        70051   \n",
       "2  12577      53  ...         128         137           24         6172   \n",
       "3   4837      90  ...         124          58           28         6369   \n",
       "4    865     173  ...          88         510           34        18194   \n",
       "\n",
       "   PublicWork  SelfEmployed  FamilyWork  Poverty  ChildPoverty  Unemployment  \n",
       "0        5013          1319           0     7123         10271          4196  \n",
       "1       10572          4985         343    26146         37463         14634  \n",
       "2        1788           627           8     7190         12200          4740  \n",
       "3        1335           555          33     3797          6306          1876  \n",
       "4        2995           931          88     9637         15697          4443  \n",
       "\n",
       "[5 rows x 37 columns]"
      ]
     },
     "execution_count": 5,
     "metadata": {},
     "output_type": "execute_result"
    }
   ],
   "source": [
    "fillnacounty_2015_path = \"fillnacounties15.csv\"\n",
    "fillnacounty_2015 = pd.read_csv(fillnacounty_2015_path)\n",
    "fillnacounty_2015.head()"
   ]
  },
  {
   "cell_type": "code",
   "execution_count": 6,
   "metadata": {},
   "outputs": [
    {
     "data": {
      "text/html": [
       "<div>\n",
       "<style scoped>\n",
       "    .dataframe tbody tr th:only-of-type {\n",
       "        vertical-align: middle;\n",
       "    }\n",
       "\n",
       "    .dataframe tbody tr th {\n",
       "        vertical-align: top;\n",
       "    }\n",
       "\n",
       "    .dataframe thead th {\n",
       "        text-align: right;\n",
       "    }\n",
       "</style>\n",
       "<table border=\"1\" class=\"dataframe\">\n",
       "  <thead>\n",
       "    <tr style=\"text-align: right;\">\n",
       "      <th></th>\n",
       "      <th>State</th>\n",
       "      <th>County</th>\n",
       "      <th>Income</th>\n",
       "      <th>MeanCommute</th>\n",
       "      <th>Poverty</th>\n",
       "    </tr>\n",
       "  </thead>\n",
       "  <tbody>\n",
       "    <tr>\n",
       "      <th>0</th>\n",
       "      <td>Alabama</td>\n",
       "      <td>Autauga</td>\n",
       "      <td>51281</td>\n",
       "      <td>26</td>\n",
       "      <td>7123</td>\n",
       "    </tr>\n",
       "    <tr>\n",
       "      <th>1</th>\n",
       "      <td>Alabama</td>\n",
       "      <td>Baldwin</td>\n",
       "      <td>50254</td>\n",
       "      <td>26</td>\n",
       "      <td>26146</td>\n",
       "    </tr>\n",
       "    <tr>\n",
       "      <th>2</th>\n",
       "      <td>Alabama</td>\n",
       "      <td>Barbour</td>\n",
       "      <td>32964</td>\n",
       "      <td>24</td>\n",
       "      <td>7190</td>\n",
       "    </tr>\n",
       "    <tr>\n",
       "      <th>3</th>\n",
       "      <td>Alabama</td>\n",
       "      <td>Bibb</td>\n",
       "      <td>38678</td>\n",
       "      <td>28</td>\n",
       "      <td>3797</td>\n",
       "    </tr>\n",
       "    <tr>\n",
       "      <th>4</th>\n",
       "      <td>Alabama</td>\n",
       "      <td>Blount</td>\n",
       "      <td>45813</td>\n",
       "      <td>34</td>\n",
       "      <td>9637</td>\n",
       "    </tr>\n",
       "    <tr>\n",
       "      <th>...</th>\n",
       "      <td>...</td>\n",
       "      <td>...</td>\n",
       "      <td>...</td>\n",
       "      <td>...</td>\n",
       "      <td>...</td>\n",
       "    </tr>\n",
       "    <tr>\n",
       "      <th>3215</th>\n",
       "      <td>Puerto Rico</td>\n",
       "      <td>Vega Baja</td>\n",
       "      <td>16948</td>\n",
       "      <td>32</td>\n",
       "      <td>27576</td>\n",
       "    </tr>\n",
       "    <tr>\n",
       "      <th>3216</th>\n",
       "      <td>Puerto Rico</td>\n",
       "      <td>Vieques</td>\n",
       "      <td>18104</td>\n",
       "      <td>14</td>\n",
       "      <td>3569</td>\n",
       "    </tr>\n",
       "    <tr>\n",
       "      <th>3217</th>\n",
       "      <td>Puerto Rico</td>\n",
       "      <td>Villalba</td>\n",
       "      <td>17818</td>\n",
       "      <td>26</td>\n",
       "      <td>13329</td>\n",
       "    </tr>\n",
       "    <tr>\n",
       "      <th>3218</th>\n",
       "      <td>Puerto Rico</td>\n",
       "      <td>Yabucoa</td>\n",
       "      <td>15627</td>\n",
       "      <td>29</td>\n",
       "      <td>18973</td>\n",
       "    </tr>\n",
       "    <tr>\n",
       "      <th>3219</th>\n",
       "      <td>Puerto Rico</td>\n",
       "      <td>Yauco</td>\n",
       "      <td>14708</td>\n",
       "      <td>24</td>\n",
       "      <td>20408</td>\n",
       "    </tr>\n",
       "  </tbody>\n",
       "</table>\n",
       "<p>3220 rows × 5 columns</p>\n",
       "</div>"
      ],
      "text/plain": [
       "            State     County  Income  MeanCommute  Poverty\n",
       "0         Alabama    Autauga   51281           26     7123\n",
       "1         Alabama    Baldwin   50254           26    26146\n",
       "2         Alabama    Barbour   32964           24     7190\n",
       "3         Alabama       Bibb   38678           28     3797\n",
       "4         Alabama     Blount   45813           34     9637\n",
       "...           ...        ...     ...          ...      ...\n",
       "3215  Puerto Rico  Vega Baja   16948           32    27576\n",
       "3216  Puerto Rico    Vieques   18104           14     3569\n",
       "3217  Puerto Rico   Villalba   17818           26    13329\n",
       "3218  Puerto Rico    Yabucoa   15627           29    18973\n",
       "3219  Puerto Rico      Yauco   14708           24    20408\n",
       "\n",
       "[3220 rows x 5 columns]"
      ]
     },
     "execution_count": 6,
     "metadata": {},
     "output_type": "execute_result"
    }
   ],
   "source": [
    "ttest_2015_df = fillnacounty_2015[['State', 'County', 'Income', 'MeanCommute', 'Poverty']]\n",
    "ttest_2015_df"
   ]
  },
  {
   "cell_type": "markdown",
   "metadata": {},
   "source": [
    "## CT vs CA 2015 TTest"
   ]
  },
  {
   "cell_type": "code",
   "execution_count": 7,
   "metadata": {},
   "outputs": [],
   "source": [
    "CA_2015 = ttest_2015_df[ttest_2015_df[\"State\"] == \"California\"]"
   ]
  },
  {
   "cell_type": "code",
   "execution_count": 8,
   "metadata": {},
   "outputs": [],
   "source": [
    "CT_2015 = ttest_2015_df[ttest_2015_df[\"State\"] == \"Connecticut\"]"
   ]
  },
  {
   "cell_type": "code",
   "execution_count": 9,
   "metadata": {},
   "outputs": [
    {
     "data": {
      "text/plain": [
       "56013.15517241379"
      ]
     },
     "execution_count": 9,
     "metadata": {},
     "output_type": "execute_result"
    }
   ],
   "source": [
    "CA_2015.Income.mean()"
   ]
  },
  {
   "cell_type": "code",
   "execution_count": 10,
   "metadata": {},
   "outputs": [
    {
     "data": {
      "text/plain": [
       "71184.125"
      ]
     },
     "execution_count": 10,
     "metadata": {},
     "output_type": "execute_result"
    }
   ],
   "source": [
    "CT_2015.Income.mean()"
   ]
  },
  {
   "cell_type": "code",
   "execution_count": 11,
   "metadata": {},
   "outputs": [
    {
     "data": {
      "text/plain": [
       "Ttest_indResult(statistic=3.978041861723879, pvalue=0.0016057153850185287)"
      ]
     },
     "execution_count": 11,
     "metadata": {},
     "output_type": "execute_result"
    }
   ],
   "source": [
    "stats.ttest_ind(CT_2015.Income, CA_2015.Income, equal_var=False)"
   ]
  },
  {
   "cell_type": "markdown",
   "metadata": {},
   "source": [
    "#### Income 2015 PValue (pvalue=0.00160 < 0.05) therefore we reject the null hypothesis.  There is a statistical difference between Connecticut and California's population average income."
   ]
  },
  {
   "cell_type": "code",
   "execution_count": 12,
   "metadata": {},
   "outputs": [
    {
     "data": {
      "text/plain": [
       "24.586206896551722"
      ]
     },
     "execution_count": 12,
     "metadata": {},
     "output_type": "execute_result"
    }
   ],
   "source": [
    "CA_2015.MeanCommute.mean()"
   ]
  },
  {
   "cell_type": "code",
   "execution_count": 13,
   "metadata": {},
   "outputs": [
    {
     "data": {
      "text/plain": [
       "25.0"
      ]
     },
     "execution_count": 13,
     "metadata": {},
     "output_type": "execute_result"
    }
   ],
   "source": [
    "CT_2015.MeanCommute.mean()"
   ]
  },
  {
   "cell_type": "code",
   "execution_count": 14,
   "metadata": {},
   "outputs": [
    {
     "data": {
      "text/plain": [
       "Ttest_indResult(statistic=0.39395028729397447, pvalue=0.6983352714049234)"
      ]
     },
     "execution_count": 14,
     "metadata": {},
     "output_type": "execute_result"
    }
   ],
   "source": [
    "stats.ttest_ind(CT_2015.MeanCommute, CA_2015.MeanCommute, equal_var=False)"
   ]
  },
  {
   "cell_type": "markdown",
   "metadata": {},
   "source": [
    "#### Mean Commute 2015 PValue (pvalue=0.69833 > 0.05) therefore we fail to reject the null hypothesis.  There is no statisitical difference between Connecticut and California's population mean commute."
   ]
  },
  {
   "cell_type": "code",
   "execution_count": null,
   "metadata": {},
   "outputs": [],
   "source": []
  },
  {
   "cell_type": "code",
   "execution_count": null,
   "metadata": {},
   "outputs": [],
   "source": []
  }
 ],
 "metadata": {
  "kernelspec": {
   "display_name": "Python 3.6.10 64-bit ('PythonData': conda)",
   "language": "python",
   "name": "python361064bitpythondatacondae5997a2e410345aaa38bb48a893dd3cc"
  },
  "language_info": {
   "codemirror_mode": {
    "name": "ipython",
    "version": 3
   },
   "file_extension": ".py",
   "mimetype": "text/x-python",
   "name": "python",
   "nbconvert_exporter": "python",
   "pygments_lexer": "ipython3",
   "version": "3.6.10"
  }
 },
 "nbformat": 4,
 "nbformat_minor": 4
}
