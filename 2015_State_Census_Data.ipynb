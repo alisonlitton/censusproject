{
 "cells": [
  {
   "cell_type": "code",
   "execution_count": 1,
   "metadata": {},
   "outputs": [],
   "source": [
    "# Dependencies and Setup\n",
    "import matplotlib.pyplot as plt\n",
    "import pandas as pd\n",
    "import numpy as np\n",
    "import requests\n",
    "import time\n",
    "from scipy.stats import linregress"
   ]
  },
  {
   "cell_type": "code",
   "execution_count": 2,
   "metadata": {},
   "outputs": [],
   "source": [
    "# Census data files\n",
    "census_state_path_2015 = \"Output/2015_cleaned_state.csv\""
   ]
  },
  {
   "cell_type": "code",
   "execution_count": 3,
   "metadata": {},
   "outputs": [],
   "source": [
    "# Read the Census data\n",
    "census_state_results_2015 = pd.read_csv(census_state_path_2015)"
   ]
  },
  {
   "cell_type": "code",
   "execution_count": 4,
   "metadata": {},
   "outputs": [
    {
     "data": {
      "text/html": [
       "<div>\n",
       "<style scoped>\n",
       "    .dataframe tbody tr th:only-of-type {\n",
       "        vertical-align: middle;\n",
       "    }\n",
       "\n",
       "    .dataframe tbody tr th {\n",
       "        vertical-align: top;\n",
       "    }\n",
       "\n",
       "    .dataframe thead th {\n",
       "        text-align: right;\n",
       "    }\n",
       "</style>\n",
       "<table border=\"1\" class=\"dataframe\">\n",
       "  <thead>\n",
       "    <tr style=\"text-align: right;\">\n",
       "      <th></th>\n",
       "      <th>State</th>\n",
       "      <th>TotalPop</th>\n",
       "      <th>Men</th>\n",
       "      <th>Women</th>\n",
       "      <th>Hispanic</th>\n",
       "      <th>White</th>\n",
       "      <th>Black</th>\n",
       "      <th>Native</th>\n",
       "      <th>Asian</th>\n",
       "      <th>Pacific</th>\n",
       "      <th>...</th>\n",
       "      <th>OtherTrans</th>\n",
       "      <th>WorkatHome</th>\n",
       "      <th>MeanCommute</th>\n",
       "      <th>PrivateWork</th>\n",
       "      <th>PublicWork</th>\n",
       "      <th>SelfEmployed</th>\n",
       "      <th>FamilyWork</th>\n",
       "      <th>Poverty</th>\n",
       "      <th>ChildPoverty</th>\n",
       "      <th>Unemployment</th>\n",
       "    </tr>\n",
       "  </thead>\n",
       "  <tbody>\n",
       "    <tr>\n",
       "      <th>0</th>\n",
       "      <td>Alabama</td>\n",
       "      <td>4830620</td>\n",
       "      <td>2341093</td>\n",
       "      <td>2489527</td>\n",
       "      <td>193159</td>\n",
       "      <td>3204658</td>\n",
       "      <td>1270556</td>\n",
       "      <td>22007</td>\n",
       "      <td>59324</td>\n",
       "      <td>1089</td>\n",
       "      <td>...</td>\n",
       "      <td>20994</td>\n",
       "      <td>56260</td>\n",
       "      <td>25</td>\n",
       "      <td>1583312</td>\n",
       "      <td>329430</td>\n",
       "      <td>105863</td>\n",
       "      <td>3715</td>\n",
       "      <td>910480</td>\n",
       "      <td>1318475</td>\n",
       "      <td>454437</td>\n",
       "    </tr>\n",
       "    <tr>\n",
       "      <th>1</th>\n",
       "      <td>Alaska</td>\n",
       "      <td>733375</td>\n",
       "      <td>384160</td>\n",
       "      <td>349215</td>\n",
       "      <td>47860</td>\n",
       "      <td>457438</td>\n",
       "      <td>23611</td>\n",
       "      <td>98381</td>\n",
       "      <td>42323</td>\n",
       "      <td>8638</td>\n",
       "      <td>...</td>\n",
       "      <td>19750</td>\n",
       "      <td>16083</td>\n",
       "      <td>10</td>\n",
       "      <td>240061</td>\n",
       "      <td>88175</td>\n",
       "      <td>22190</td>\n",
       "      <td>634</td>\n",
       "      <td>74612</td>\n",
       "      <td>99617</td>\n",
       "      <td>61930</td>\n",
       "    </tr>\n",
       "    <tr>\n",
       "      <th>2</th>\n",
       "      <td>Arizona</td>\n",
       "      <td>6641928</td>\n",
       "      <td>3299088</td>\n",
       "      <td>3342840</td>\n",
       "      <td>2015055</td>\n",
       "      <td>3751927</td>\n",
       "      <td>263011</td>\n",
       "      <td>265835</td>\n",
       "      <td>193799</td>\n",
       "      <td>11587</td>\n",
       "      <td>...</td>\n",
       "      <td>77252</td>\n",
       "      <td>156279</td>\n",
       "      <td>21</td>\n",
       "      <td>2230882</td>\n",
       "      <td>412325</td>\n",
       "      <td>166404</td>\n",
       "      <td>5502</td>\n",
       "      <td>1210351</td>\n",
       "      <td>1724490</td>\n",
       "      <td>603924</td>\n",
       "    </tr>\n",
       "    <tr>\n",
       "      <th>3</th>\n",
       "      <td>Arkansas</td>\n",
       "      <td>2958208</td>\n",
       "      <td>1451913</td>\n",
       "      <td>1506295</td>\n",
       "      <td>203216</td>\n",
       "      <td>2177095</td>\n",
       "      <td>456609</td>\n",
       "      <td>16531</td>\n",
       "      <td>39968</td>\n",
       "      <td>6628</td>\n",
       "      <td>...</td>\n",
       "      <td>15580</td>\n",
       "      <td>40259</td>\n",
       "      <td>22</td>\n",
       "      <td>969630</td>\n",
       "      <td>205337</td>\n",
       "      <td>78614</td>\n",
       "      <td>2406</td>\n",
       "      <td>571519</td>\n",
       "      <td>821223</td>\n",
       "      <td>231142</td>\n",
       "    </tr>\n",
       "    <tr>\n",
       "      <th>4</th>\n",
       "      <td>California</td>\n",
       "      <td>38421464</td>\n",
       "      <td>19087135</td>\n",
       "      <td>19334329</td>\n",
       "      <td>14746502</td>\n",
       "      <td>14878698</td>\n",
       "      <td>2157932</td>\n",
       "      <td>144676</td>\n",
       "      <td>5192680</td>\n",
       "      <td>133245</td>\n",
       "      <td>...</td>\n",
       "      <td>437377</td>\n",
       "      <td>917120</td>\n",
       "      <td>24</td>\n",
       "      <td>13403787</td>\n",
       "      <td>2381720</td>\n",
       "      <td>1434085</td>\n",
       "      <td>34099</td>\n",
       "      <td>6260461</td>\n",
       "      <td>8451647</td>\n",
       "      <td>3845611</td>\n",
       "    </tr>\n",
       "  </tbody>\n",
       "</table>\n",
       "<p>5 rows × 35 columns</p>\n",
       "</div>"
      ],
      "text/plain": [
       "        State  TotalPop       Men     Women  Hispanic     White    Black  \\\n",
       "0     Alabama   4830620   2341093   2489527    193159   3204658  1270556   \n",
       "1      Alaska    733375    384160    349215     47860    457438    23611   \n",
       "2     Arizona   6641928   3299088   3342840   2015055   3751927   263011   \n",
       "3    Arkansas   2958208   1451913   1506295    203216   2177095   456609   \n",
       "4  California  38421464  19087135  19334329  14746502  14878698  2157932   \n",
       "\n",
       "   Native    Asian  Pacific  ...  OtherTrans  WorkatHome  MeanCommute  \\\n",
       "0   22007    59324     1089  ...       20994       56260           25   \n",
       "1   98381    42323     8638  ...       19750       16083           10   \n",
       "2  265835   193799    11587  ...       77252      156279           21   \n",
       "3   16531    39968     6628  ...       15580       40259           22   \n",
       "4  144676  5192680   133245  ...      437377      917120           24   \n",
       "\n",
       "   PrivateWork  PublicWork  SelfEmployed  FamilyWork  Poverty  ChildPoverty  \\\n",
       "0      1583312      329430        105863        3715   910480       1318475   \n",
       "1       240061       88175         22190         634    74612         99617   \n",
       "2      2230882      412325        166404        5502  1210351       1724490   \n",
       "3       969630      205337         78614        2406   571519        821223   \n",
       "4     13403787     2381720       1434085       34099  6260461       8451647   \n",
       "\n",
       "   Unemployment  \n",
       "0        454437  \n",
       "1         61930  \n",
       "2        603924  \n",
       "3        231142  \n",
       "4       3845611  \n",
       "\n",
       "[5 rows x 35 columns]"
      ]
     },
     "execution_count": 4,
     "metadata": {},
     "output_type": "execute_result"
    }
   ],
   "source": [
    "census_state_results_2015.head()"
   ]
  },
  {
   "cell_type": "code",
   "execution_count": 5,
   "metadata": {},
   "outputs": [],
   "source": [
    "#Data Collection for Census data\n",
    "total_pop = census_state_results_2015[\"TotalPop\"].sum()\n",
    "men = census_state_results_2015[\"Men\"].sum()/total_pop * 100\n",
    "women= census_state_results_2015[\"Women\"].sum()/total_pop * 100\n",
    "employed_num = census_state_results_2015[\"Employed\"].sum()\n",
    "employed = census_state_results_2015[\"Employed\"].sum()/total_pop * 100\n",
    "service = census_state_results_2015[\"Service\"].sum()/employed_num * 100\n",
    "office = census_state_results_2015[\"Office\"].sum()/employed_num * 100\n",
    "construction = census_state_results_2015[\"Construction\"].sum()/employed_num * 100\n",
    "production = census_state_results_2015[\"Production\"].sum()/employed_num * 100\n",
    "drive = census_state_results_2015[\"Drive\"].sum()/employed_num * 100\n",
    "carpool = census_state_results_2015[\"Carpool\"].sum()/employed_num * 100\n",
    "transit = census_state_results_2015[\"Transit\"].sum()/employed_num * 100\n",
    "walk = census_state_results_2015[\"Walk\"].sum()/employed_num * 100\n",
    "workathome = census_state_results_2015[\"WorkatHome\"].sum()/employed_num * 100\n",
    "privatework = census_state_results_2015[\"PrivateWork\"].sum()/employed_num * 100\n",
    "publicwork = census_state_results_2015[\"PublicWork\"].sum()/employed_num * 100\n",
    "selfemployed = census_state_results_2015[\"SelfEmployed\"].sum()/employed_num * 100\n",
    "familywork = census_state_results_2015[\"FamilyWork\"].sum()/employed_num * 100\n",
    "poverty = census_state_results_2015[\"Poverty\"].sum()/employed_num * 100\n",
    "childpoverty = census_state_results_2015[\"ChildPoverty\"].sum()/total_pop * 100\n",
    "unemployment = census_state_results_2015[\"Unemployment\"].sum()/total_pop * 100"
   ]
  },
  {
   "cell_type": "code",
   "execution_count": 6,
   "metadata": {},
   "outputs": [
    {
     "data": {
      "text/html": [
       "<style  type=\"text/css\" >\n",
       "</style><table id=\"T_3b0c4c50_c7de_11ea_8764_1cbfc022f172\" ><thead>    <tr>        <th class=\"blank level0\" ></th>        <th class=\"col_heading level0 col0\" >Total Pop</th>        <th class=\"col_heading level0 col1\" >Men%</th>        <th class=\"col_heading level0 col2\" >Women%</th>        <th class=\"col_heading level0 col3\" >Employed%</th>        <th class=\"col_heading level0 col4\" >Service%</th>        <th class=\"col_heading level0 col5\" >Office%</th>        <th class=\"col_heading level0 col6\" >Construction%</th>        <th class=\"col_heading level0 col7\" >Production%</th>        <th class=\"col_heading level0 col8\" >Drive%</th>        <th class=\"col_heading level0 col9\" >Carpool%</th>        <th class=\"col_heading level0 col10\" >Transit%</th>        <th class=\"col_heading level0 col11\" >Walk%</th>        <th class=\"col_heading level0 col12\" >WorkatHome%</th>        <th class=\"col_heading level0 col13\" >Privatework%</th>        <th class=\"col_heading level0 col14\" >Publicwork%</th>        <th class=\"col_heading level0 col15\" >Selfemployed%</th>        <th class=\"col_heading level0 col16\" >Familywork%</th>        <th class=\"col_heading level0 col17\" >Poverty%</th>        <th class=\"col_heading level0 col18\" >Childpoverty%</th>        <th class=\"col_heading level0 col19\" >Unemployment%</th>    </tr></thead><tbody>\n",
       "                <tr>\n",
       "                        <th id=\"T_3b0c4c50_c7de_11ea_8764_1cbfc022f172level0_row0\" class=\"row_heading level0 row0\" >0</th>\n",
       "                        <td id=\"T_3b0c4c50_c7de_11ea_8764_1cbfc022f172row0_col0\" class=\"data row0 col0\" >320,098,094</td>\n",
       "                        <td id=\"T_3b0c4c50_c7de_11ea_8764_1cbfc022f172row0_col1\" class=\"data row0 col1\" >49.19%</td>\n",
       "                        <td id=\"T_3b0c4c50_c7de_11ea_8764_1cbfc022f172row0_col2\" class=\"data row0 col2\" >50.81%</td>\n",
       "                        <td id=\"T_3b0c4c50_c7de_11ea_8764_1cbfc022f172row0_col3\" class=\"data row0 col3\" >45.86%</td>\n",
       "                        <td id=\"T_3b0c4c50_c7de_11ea_8764_1cbfc022f172row0_col4\" class=\"data row0 col4\" >18.16%</td>\n",
       "                        <td id=\"T_3b0c4c50_c7de_11ea_8764_1cbfc022f172row0_col5\" class=\"data row0 col5\" >24.11%</td>\n",
       "                        <td id=\"T_3b0c4c50_c7de_11ea_8764_1cbfc022f172row0_col6\" class=\"data row0 col6\" >8.95%</td>\n",
       "                        <td id=\"T_3b0c4c50_c7de_11ea_8764_1cbfc022f172row0_col7\" class=\"data row0 col7\" >12.15%</td>\n",
       "                        <td id=\"T_3b0c4c50_c7de_11ea_8764_1cbfc022f172row0_col8\" class=\"data row0 col8\" >76.42%</td>\n",
       "                        <td id=\"T_3b0c4c50_c7de_11ea_8764_1cbfc022f172row0_col9\" class=\"data row0 col9\" >9.44%</td>\n",
       "                        <td id=\"T_3b0c4c50_c7de_11ea_8764_1cbfc022f172row0_col10\" class=\"data row0 col10\" >5.13%</td>\n",
       "                        <td id=\"T_3b0c4c50_c7de_11ea_8764_1cbfc022f172row0_col11\" class=\"data row0 col11\" >2.79%</td>\n",
       "                        <td id=\"T_3b0c4c50_c7de_11ea_8764_1cbfc022f172row0_col12\" class=\"data row0 col12\" >4.40%</td>\n",
       "                        <td id=\"T_3b0c4c50_c7de_11ea_8764_1cbfc022f172row0_col13\" class=\"data row0 col13\" >79.43%</td>\n",
       "                        <td id=\"T_3b0c4c50_c7de_11ea_8764_1cbfc022f172row0_col14\" class=\"data row0 col14\" >14.36%</td>\n",
       "                        <td id=\"T_3b0c4c50_c7de_11ea_8764_1cbfc022f172row0_col15\" class=\"data row0 col15\" >6.05%</td>\n",
       "                        <td id=\"T_3b0c4c50_c7de_11ea_8764_1cbfc022f172row0_col16\" class=\"data row0 col16\" >0.16%</td>\n",
       "                        <td id=\"T_3b0c4c50_c7de_11ea_8764_1cbfc022f172row0_col17\" class=\"data row0 col17\" >34.53%</td>\n",
       "                        <td id=\"T_3b0c4c50_c7de_11ea_8764_1cbfc022f172row0_col18\" class=\"data row0 col18\" >22.04%</td>\n",
       "                        <td id=\"T_3b0c4c50_c7de_11ea_8764_1cbfc022f172row0_col19\" class=\"data row0 col19\" >8.49%</td>\n",
       "            </tr>\n",
       "    </tbody></table>"
      ],
      "text/plain": [
       "<pandas.io.formats.style.Styler at 0x19d42a2de80>"
      ]
     },
     "execution_count": 6,
     "metadata": {},
     "output_type": "execute_result"
    }
   ],
   "source": [
    "state_summary_2015_df = pd.DataFrame({\"Total Pop\": [total_pop],\n",
    "                           \"Men%\": [men],\n",
    "                           \"Women%\": [women],\n",
    "                           \"Employed%\": [employed],\n",
    "                           \"Service%\": [service],\n",
    "                           \"Office%\": [office],\n",
    "                           \"Construction%\": [construction],\n",
    "                           \"Production%\": [production],\n",
    "                           \"Drive%\": [drive],\n",
    "                           \"Carpool%\": [carpool],\n",
    "                           \"Transit%\": [transit],\n",
    "                           \"Walk%\": [walk],\n",
    "                           \"WorkatHome%\": [workathome],\n",
    "                           \"Privatework%\": [privatework],\n",
    "                           \"Publicwork%\": [publicwork],\n",
    "                           \"Selfemployed%\": [selfemployed],\n",
    "                           \"Familywork%\": [familywork],\n",
    "                           \"Poverty%\": [poverty],\n",
    "                           \"Childpoverty%\": [childpoverty],\n",
    "                           \"Selfemployed%\": [selfemployed],\n",
    "                           \"Unemployment%\": [unemployment]})           \n",
    "                          \n",
    "             \n",
    "state_summary_2015_df .style.format({\"Total Pop\":\"{:,}\",\n",
    "                         \"Men%\":\"{:,.2f}%\",\n",
    "                         \"Women%\":\"{:,.2f}%\",\n",
    "                         \"Employed%\":\"{:,.2f}%\",\n",
    "                         \"Service%\":\"{:,.2f}%\",\n",
    "                         \"Office%\":\"{:,.2f}%\",\n",
    "                         \"Construction%\":\"{:,.2f}%\",\n",
    "                         \"Production%\":\"{:,.2f}%\",\n",
    "                         \"Drive%\":\"{:,.2f}%\",\n",
    "                         \"Carpool%\":\"{:,.2f}%\",\n",
    "                         \"Transit%\":\"{:,.2f}%\",\n",
    "                          \"Walk%\":\"{:,.2f}%\",\n",
    "                          \"WorkatHome%\":\"{:,.2f}%\",\n",
    "                          \"Privatework%\":\"{:,.2f}%\",\n",
    "                          \"Publicwork%\":\"{:,.2f}%\",\n",
    "                          \"Selfemployed%\":\"{:,.2f}%\",\n",
    "                          \"Familywork%\":\"{:,.2f}%\",\n",
    "                          \"Poverty%\":\"{:,.2f}%\",\n",
    "                          \"Childpoverty%\":\"{:,.2f}%\",\n",
    "                          \"Selfemployed%\":\"{:,.2f}%\",\n",
    "                          \"Unemployment%\":\"{:,.2f}%\"})  "
   ]
  },
  {
   "cell_type": "code",
   "execution_count": 7,
   "metadata": {},
   "outputs": [
    {
     "data": {
      "image/png": "[encoded data removed]",
      "text/plain": [
       "<Figure size 432x288 with 1 Axes>"
      ]
     },
     "metadata": {
      "needs_background": "light"
     },
     "output_type": "display_data"
    }
   ],
   "source": [
    "plt.scatter(census_state_results_2015[\"Income\"],census_state_results_2015[\"Professional\"], marker=\"o\", facecolors=\"red\", edgecolors=\"black\",alpha=0.5)\n",
    "plt.xlabel(\"Income\")\n",
    "plt.ylabel(\"Professional\")\n",
    "plt.title(f\"Avg Income vs Professional Sector\")\n",
    "# plt.savefig(\"../output_data//Avg Income vs Professional Sector.png\")\n",
    "plt.grid()\n",
    "plt.show()"
   ]
  },
  {
   "cell_type": "code",
   "execution_count": 8,
   "metadata": {},
   "outputs": [
    {
     "name": "stdout",
     "output_type": "stream",
     "text": [
      "The r-squared is: 0.004399904622446995\n"
     ]
    },
    {
     "data": {
      "image/png": "[encoded data removed]",
      "text/plain": [
       "<Figure size 432x288 with 1 Axes>"
      ]
     },
     "metadata": {
      "needs_background": "light"
     },
     "output_type": "display_data"
    }
   ],
   "source": [
    "x_value = census_state_results_2015[\"Income\"]\n",
    "y_value = census_state_results_2015[\"Professional\"]\n",
    "\n",
    "\n",
    "(slope, intercept, rvalue, pvalue, stderr) = linregress(x_value, y_value)\n",
    "\n",
    "print(f\"The r-squared is: {rvalue**2}\")\n",
    "r_line = \"y = \" + str(round(slope,2)) + \"x +\" + str(round(intercept,2))\n",
    "\n",
    "regression_values = x_value * slope + intercept\n",
    "plt.scatter(x_value,y_value)\n",
    "plt.annotate(r_line,(5, 40),color=\"red\")\n",
    "plt.plot(x_value,regression_values, \"r-\")\n",
    "plt.title(\"Avg Income vs Professional Sector\")\n",
    "plt.xlabel(\"Income\")\n",
    "plt.ylabel(\"Professional Sector\")\n",
    "# plt.savefig(\"../output_data//Northern Hemisphere - Max Temp vs. Latitude Linear Regression.png\")\n",
    "plt.show()"
   ]
  },
  {
   "cell_type": "code",
   "execution_count": 9,
   "metadata": {},
   "outputs": [
    {
     "ename": "NameError",
     "evalue": "name 'x' is not defined",
     "output_type": "error",
     "traceback": [
      "\u001b[1;31m---------------------------------------------------------------------------\u001b[0m",
      "\u001b[1;31mNameError\u001b[0m                                 Traceback (most recent call last)",
      "\u001b[1;32m<ipython-input-9-929f73c72330>\u001b[0m in \u001b[0;36m<module>\u001b[1;34m\u001b[0m\n\u001b[0;32m      1\u001b[0m \u001b[0mplt\u001b[0m\u001b[1;33m.\u001b[0m\u001b[0mfigure\u001b[0m\u001b[1;33m(\u001b[0m\u001b[0mfigsize\u001b[0m\u001b[1;33m=\u001b[0m\u001b[1;33m(\u001b[0m\u001b[1;36m15\u001b[0m\u001b[1;33m,\u001b[0m \u001b[1;36m10\u001b[0m\u001b[1;33m)\u001b[0m\u001b[1;33m)\u001b[0m\u001b[1;33m\u001b[0m\u001b[1;33m\u001b[0m\u001b[0m\n\u001b[1;32m----> 2\u001b[1;33m \u001b[0mplt\u001b[0m\u001b[1;33m.\u001b[0m\u001b[0mbar\u001b[0m\u001b[1;33m(\u001b[0m\u001b[0mx\u001b[0m\u001b[1;33m,\u001b[0m \u001b[0my\u001b[0m\u001b[1;33m,\u001b[0m \u001b[0mcolor\u001b[0m\u001b[1;33m=\u001b[0m\u001b[1;34m\"blue\"\u001b[0m\u001b[1;33m,\u001b[0m \u001b[0malpha\u001b[0m\u001b[1;33m=\u001b[0m\u001b[1;36m1\u001b[0m\u001b[1;33m,\u001b[0m \u001b[0malign\u001b[0m\u001b[1;33m=\u001b[0m\u001b[1;34m\"center\"\u001b[0m\u001b[1;33m)\u001b[0m\u001b[1;33m\u001b[0m\u001b[1;33m\u001b[0m\u001b[0m\n\u001b[0m\u001b[0;32m      3\u001b[0m \u001b[0mplt\u001b[0m\u001b[1;33m.\u001b[0m\u001b[0mxlim\u001b[0m\u001b[1;33m(\u001b[0m\u001b[1;33m-\u001b[0m\u001b[1;36m.75\u001b[0m\u001b[1;33m,\u001b[0m \u001b[0mlen\u001b[0m\u001b[1;33m(\u001b[0m\u001b[0mx\u001b[0m\u001b[1;33m)\u001b[0m\u001b[1;33m+\u001b[0m\u001b[1;36m.75\u001b[0m\u001b[1;33m)\u001b[0m\u001b[1;33m\u001b[0m\u001b[1;33m\u001b[0m\u001b[0m\n\u001b[0;32m      4\u001b[0m \u001b[0mplt\u001b[0m\u001b[1;33m.\u001b[0m\u001b[0mylim\u001b[0m\u001b[1;33m(\u001b[0m\u001b[1;36m0\u001b[0m\u001b[1;33m,\u001b[0m \u001b[0mmax\u001b[0m\u001b[1;33m(\u001b[0m\u001b[0my\u001b[0m\u001b[1;33m)\u001b[0m\u001b[1;33m+\u001b[0m\u001b[1;36m25\u001b[0m\u001b[1;33m)\u001b[0m\u001b[1;33m\u001b[0m\u001b[1;33m\u001b[0m\u001b[0m\n\u001b[0;32m      5\u001b[0m \u001b[0mplt\u001b[0m\u001b[1;33m.\u001b[0m\u001b[0mtitle\u001b[0m\u001b[1;33m(\u001b[0m\u001b[1;34m\"Unemployment by State\"\u001b[0m\u001b[1;33m)\u001b[0m\u001b[1;33m\u001b[0m\u001b[1;33m\u001b[0m\u001b[0m\n",
      "\u001b[1;31mNameError\u001b[0m: name 'x' is not defined"
     ]
    },
    {
     "data": {
      "text/plain": [
       "<Figure size 1080x720 with 0 Axes>"
      ]
     },
     "metadata": {},
     "output_type": "display_data"
    }
   ],
   "source": [
    "plt.figure(figsize=(15, 10))\n",
    "plt.bar(x, y, color=\"blue\", alpha=1, align=\"center\")\n",
    "plt.xlim(-.75, len(x)+.75)\n",
    "plt.ylim(0, max(y)+25)\n",
    "plt.title(\"Avg Income vs Professional Sector\")\n",
    "plt.xlabel(\"Income\")\n",
    "plt.ylabel(\"Professional Sector\")\n",
    "tick_locations = [value for value in x]\n",
    "plt.xticks(tick_locations, rotation=90)\n",
    "plt.show()"
   ]
  },
  {
   "cell_type": "code",
   "execution_count": null,
   "metadata": {},
   "outputs": [],
   "source": []
  }
 ],
 "metadata": {
  "kernelspec": {
   "display_name": "Python 3.6.10 64-bit ('PythonData': conda)",
   "language": "python",
   "name": "python361064bitpythondatacondab7241d2842e841139a307079ecc122c8"
  },
  "language_info": {
   "codemirror_mode": {
    "name": "ipython",
    "version": 3
   },
   "file_extension": ".py",
   "mimetype": "text/x-python",
   "name": "python",
   "nbconvert_exporter": "python",
   "pygments_lexer": "ipython3",
   "version": "3.6.10"
  }
 },
 "nbformat": 4,
 "nbformat_minor": 4
}
